{
 "cells": [
  {
   "cell_type": "markdown",
   "metadata": {},
   "source": [
    "### Importing libraries"
   ]
  },
  {
   "cell_type": "code",
   "execution_count": 2,
   "metadata": {},
   "outputs": [
    {
     "name": "stderr",
     "output_type": "stream",
     "text": [
      "[nltk_data] Downloading package stopwords to C:\\Users\\Abubakar\n",
      "[nltk_data]     Iftikhar\\AppData\\Roaming\\nltk_data...\n",
      "[nltk_data]   Package stopwords is already up-to-date!\n",
      "[nltk_data] Downloading package punkt_tab to C:\\Users\\Abubakar\n",
      "[nltk_data]     Iftikhar\\AppData\\Roaming\\nltk_data...\n",
      "[nltk_data]   Package punkt_tab is already up-to-date!\n"
     ]
    }
   ],
   "source": [
    "import pandas as pd\n",
    "import matplotlib.pyplot as plt\n",
    "import seaborn as sns\n",
    "\n",
    "# For data preprocessing\n",
    "import nltk\n",
    "nltk.download('stopwords')\n",
    "nltk.download('punkt_tab')\n",
    "\n",
    "import string\n",
    "from nltk.corpus import stopwords\n",
    "from nltk.stem import PorterStemmer\n",
    "from nltk.tokenize import sent_tokenize, word_tokenize\n",
    "import re\n",
    "from collections import Counter\n",
    "from wordcloud import WordCloud\n",
    "from sklearn.preprocessing import LabelEncoder\n",
    "\n",
    "# For Model Building\n",
    "from sklearn.feature_extraction.text import TfidfVectorizer\n",
    "from sklearn.model_selection import train_test_split\n",
    "from sklearn.metrics import accuracy_score,confusion_matrix,precision_score\n",
    "from sklearn.svm import SVC\n",
    "from sklearn.ensemble import RandomForestClassifier\n",
    "from sklearn.naive_bayes import MultinomialNB"
   ]
  },
  {
   "cell_type": "markdown",
   "metadata": {},
   "source": [
    "### Loading dataset"
   ]
  },
  {
   "cell_type": "code",
   "execution_count": 3,
   "metadata": {},
   "outputs": [
    {
     "data": {
      "text/html": [
       "<div>\n",
       "<style scoped>\n",
       "    .dataframe tbody tr th:only-of-type {\n",
       "        vertical-align: middle;\n",
       "    }\n",
       "\n",
       "    .dataframe tbody tr th {\n",
       "        vertical-align: top;\n",
       "    }\n",
       "\n",
       "    .dataframe thead th {\n",
       "        text-align: right;\n",
       "    }\n",
       "</style>\n",
       "<table border=\"1\" class=\"dataframe\">\n",
       "  <thead>\n",
       "    <tr style=\"text-align: right;\">\n",
       "      <th></th>\n",
       "      <th>v1</th>\n",
       "      <th>v2</th>\n",
       "      <th>Unnamed: 2</th>\n",
       "      <th>Unnamed: 3</th>\n",
       "      <th>Unnamed: 4</th>\n",
       "    </tr>\n",
       "  </thead>\n",
       "  <tbody>\n",
       "    <tr>\n",
       "      <th>2197</th>\n",
       "      <td>ham</td>\n",
       "      <td>Bring it if you got it</td>\n",
       "      <td>NaN</td>\n",
       "      <td>NaN</td>\n",
       "      <td>NaN</td>\n",
       "    </tr>\n",
       "    <tr>\n",
       "      <th>2291</th>\n",
       "      <td>ham</td>\n",
       "      <td>Remind me how to get there and I shall do so</td>\n",
       "      <td>NaN</td>\n",
       "      <td>NaN</td>\n",
       "      <td>NaN</td>\n",
       "    </tr>\n",
       "    <tr>\n",
       "      <th>5447</th>\n",
       "      <td>ham</td>\n",
       "      <td>So that takes away some money worries</td>\n",
       "      <td>NaN</td>\n",
       "      <td>NaN</td>\n",
       "      <td>NaN</td>\n",
       "    </tr>\n",
       "    <tr>\n",
       "      <th>119</th>\n",
       "      <td>spam</td>\n",
       "      <td>PRIVATE! Your 2004 Account Statement for 07742...</td>\n",
       "      <td>NaN</td>\n",
       "      <td>NaN</td>\n",
       "      <td>NaN</td>\n",
       "    </tr>\n",
       "    <tr>\n",
       "      <th>1469</th>\n",
       "      <td>ham</td>\n",
       "      <td>7 wonders in My WORLD 7th You 6th Ur style 5th...</td>\n",
       "      <td>NaN</td>\n",
       "      <td>NaN</td>\n",
       "      <td>NaN</td>\n",
       "    </tr>\n",
       "  </tbody>\n",
       "</table>\n",
       "</div>"
      ],
      "text/plain": [
       "        v1                                                 v2 Unnamed: 2  \\\n",
       "2197   ham                             Bring it if you got it        NaN   \n",
       "2291   ham       Remind me how to get there and I shall do so        NaN   \n",
       "5447   ham              So that takes away some money worries        NaN   \n",
       "119   spam  PRIVATE! Your 2004 Account Statement for 07742...        NaN   \n",
       "1469   ham  7 wonders in My WORLD 7th You 6th Ur style 5th...        NaN   \n",
       "\n",
       "     Unnamed: 3 Unnamed: 4  \n",
       "2197        NaN        NaN  \n",
       "2291        NaN        NaN  \n",
       "5447        NaN        NaN  \n",
       "119         NaN        NaN  \n",
       "1469        NaN        NaN  "
      ]
     },
     "execution_count": 3,
     "metadata": {},
     "output_type": "execute_result"
    }
   ],
   "source": [
    "data = pd.read_csv(\"./dataset/emails.csv\",encoding='latin1')\n",
    "data.sample(5)"
   ]
  },
  {
   "cell_type": "markdown",
   "metadata": {},
   "source": [
    "### Initial exploration & cleaning"
   ]
  },
  {
   "cell_type": "markdown",
   "metadata": {},
   "source": [
    "- Shape of the data"
   ]
  },
  {
   "cell_type": "code",
   "execution_count": 4,
   "metadata": {},
   "outputs": [
    {
     "name": "stdout",
     "output_type": "stream",
     "text": [
      "There are 5572 Number of rows and 5 columns in the dataframe\n"
     ]
    }
   ],
   "source": [
    "row, col = data.shape\n",
    "print(f\"There are {row} Number of rows and {col} columns in the dataframe\")"
   ]
  },
  {
   "cell_type": "markdown",
   "metadata": {},
   "source": [
    "- drop the unwanted columns"
   ]
  },
  {
   "cell_type": "code",
   "execution_count": 5,
   "metadata": {},
   "outputs": [],
   "source": [
    "data.drop(columns=[\"Unnamed: 2\", \"Unnamed: 3\", \"Unnamed: 4\"], inplace=True)"
   ]
  },
  {
   "cell_type": "code",
   "execution_count": 6,
   "metadata": {},
   "outputs": [
    {
     "data": {
      "text/html": [
       "<div>\n",
       "<style scoped>\n",
       "    .dataframe tbody tr th:only-of-type {\n",
       "        vertical-align: middle;\n",
       "    }\n",
       "\n",
       "    .dataframe tbody tr th {\n",
       "        vertical-align: top;\n",
       "    }\n",
       "\n",
       "    .dataframe thead th {\n",
       "        text-align: right;\n",
       "    }\n",
       "</style>\n",
       "<table border=\"1\" class=\"dataframe\">\n",
       "  <thead>\n",
       "    <tr style=\"text-align: right;\">\n",
       "      <th></th>\n",
       "      <th>v1</th>\n",
       "      <th>v2</th>\n",
       "    </tr>\n",
       "  </thead>\n",
       "  <tbody>\n",
       "    <tr>\n",
       "      <th>1438</th>\n",
       "      <td>ham</td>\n",
       "      <td>Arms fine, how's Cardiff and uni?</td>\n",
       "    </tr>\n",
       "    <tr>\n",
       "      <th>1813</th>\n",
       "      <td>ham</td>\n",
       "      <td>Yes we are chatting too.</td>\n",
       "    </tr>\n",
       "    <tr>\n",
       "      <th>5073</th>\n",
       "      <td>ham</td>\n",
       "      <td>I want to sent  &amp;lt;#&amp;gt; mesages today. Thats...</td>\n",
       "    </tr>\n",
       "    <tr>\n",
       "      <th>3269</th>\n",
       "      <td>ham</td>\n",
       "      <td>K actually can you guys meet me at the sunoco ...</td>\n",
       "    </tr>\n",
       "    <tr>\n",
       "      <th>3482</th>\n",
       "      <td>ham</td>\n",
       "      <td>Hello, my love! How goes that day ? I wish you...</td>\n",
       "    </tr>\n",
       "  </tbody>\n",
       "</table>\n",
       "</div>"
      ],
      "text/plain": [
       "       v1                                                 v2\n",
       "1438  ham                 Arms fine, how's Cardiff and uni? \n",
       "1813  ham                           Yes we are chatting too.\n",
       "5073  ham  I want to sent  &lt;#&gt; mesages today. Thats...\n",
       "3269  ham  K actually can you guys meet me at the sunoco ...\n",
       "3482  ham  Hello, my love! How goes that day ? I wish you..."
      ]
     },
     "execution_count": 6,
     "metadata": {},
     "output_type": "execute_result"
    }
   ],
   "source": [
    "data.sample(5)"
   ]
  },
  {
   "cell_type": "markdown",
   "metadata": {},
   "source": [
    "- Rename columns name"
   ]
  },
  {
   "cell_type": "code",
   "execution_count": 7,
   "metadata": {},
   "outputs": [],
   "source": [
    "# data.rename(columns={\"v1\":\"label\", \"v2\":\"email\"}, inplace=True)\n",
    "data.rename(columns={\"v1\":\"result\", \"v2\":\"emails\"}, inplace=True)"
   ]
  },
  {
   "cell_type": "code",
   "execution_count": 8,
   "metadata": {},
   "outputs": [
    {
     "data": {
      "text/html": [
       "<div>\n",
       "<style scoped>\n",
       "    .dataframe tbody tr th:only-of-type {\n",
       "        vertical-align: middle;\n",
       "    }\n",
       "\n",
       "    .dataframe tbody tr th {\n",
       "        vertical-align: top;\n",
       "    }\n",
       "\n",
       "    .dataframe thead th {\n",
       "        text-align: right;\n",
       "    }\n",
       "</style>\n",
       "<table border=\"1\" class=\"dataframe\">\n",
       "  <thead>\n",
       "    <tr style=\"text-align: right;\">\n",
       "      <th></th>\n",
       "      <th>result</th>\n",
       "      <th>emails</th>\n",
       "    </tr>\n",
       "  </thead>\n",
       "  <tbody>\n",
       "    <tr>\n",
       "      <th>2018</th>\n",
       "      <td>ham</td>\n",
       "      <td>Ya it came a while ago</td>\n",
       "    </tr>\n",
       "    <tr>\n",
       "      <th>1275</th>\n",
       "      <td>ham</td>\n",
       "      <td>Wot u up 2 u weirdo?</td>\n",
       "    </tr>\n",
       "    <tr>\n",
       "      <th>3607</th>\n",
       "      <td>ham</td>\n",
       "      <td>Pls come quick cant bare this.</td>\n",
       "    </tr>\n",
       "    <tr>\n",
       "      <th>4246</th>\n",
       "      <td>spam</td>\n",
       "      <td>Text PASS to 69669 to collect your polyphonic ...</td>\n",
       "    </tr>\n",
       "    <tr>\n",
       "      <th>2072</th>\n",
       "      <td>ham</td>\n",
       "      <td>That is wondarfull song</td>\n",
       "    </tr>\n",
       "  </tbody>\n",
       "</table>\n",
       "</div>"
      ],
      "text/plain": [
       "     result                                             emails\n",
       "2018    ham                             Ya it came a while ago\n",
       "1275    ham                               Wot u up 2 u weirdo?\n",
       "3607    ham                     Pls come quick cant bare this.\n",
       "4246   spam  Text PASS to 69669 to collect your polyphonic ...\n",
       "2072    ham                            That is wondarfull song"
      ]
     },
     "execution_count": 8,
     "metadata": {},
     "output_type": "execute_result"
    }
   ],
   "source": [
    "data.sample(5)"
   ]
  },
  {
   "cell_type": "markdown",
   "metadata": {},
   "source": [
    "- Checking for null values"
   ]
  },
  {
   "cell_type": "code",
   "execution_count": 9,
   "metadata": {},
   "outputs": [
    {
     "data": {
      "text/plain": [
       "result    0\n",
       "emails    0\n",
       "dtype: int64"
      ]
     },
     "execution_count": 9,
     "metadata": {},
     "output_type": "execute_result"
    }
   ],
   "source": [
    "data.isnull().sum()"
   ]
  },
  {
   "cell_type": "markdown",
   "metadata": {},
   "source": [
    "- Checking for duplicated rows"
   ]
  },
  {
   "cell_type": "code",
   "execution_count": 10,
   "metadata": {},
   "outputs": [
    {
     "data": {
      "text/plain": [
       "np.int64(403)"
      ]
     },
     "execution_count": 10,
     "metadata": {},
     "output_type": "execute_result"
    }
   ],
   "source": [
    "data.duplicated().sum()"
   ]
  },
  {
   "cell_type": "code",
   "execution_count": 11,
   "metadata": {},
   "outputs": [],
   "source": [
    "data.drop_duplicates(keep=\"first\", inplace=True)"
   ]
  },
  {
   "cell_type": "code",
   "execution_count": 12,
   "metadata": {},
   "outputs": [
    {
     "data": {
      "text/plain": [
       "np.int64(0)"
      ]
     },
     "execution_count": 12,
     "metadata": {},
     "output_type": "execute_result"
    }
   ],
   "source": [
    "data.duplicated().sum()"
   ]
  },
  {
   "cell_type": "code",
   "execution_count": 13,
   "metadata": {},
   "outputs": [
    {
     "name": "stdout",
     "output_type": "stream",
     "text": [
      "There are 5169 Number of rows and 2 columns in the dataframe\n"
     ]
    }
   ],
   "source": [
    "row, col = data.shape\n",
    "print(f\"There are {row} Number of rows and {col} columns in the dataframe\")"
   ]
  },
  {
   "cell_type": "markdown",
   "metadata": {},
   "source": [
    "### EDA"
   ]
  },
  {
   "cell_type": "markdown",
   "metadata": {},
   "source": [
    "**1- Distribution of Labels**"
   ]
  },
  {
   "cell_type": "code",
   "execution_count": 14,
   "metadata": {},
   "outputs": [
    {
     "data": {
      "text/plain": [
       "result\n",
       "ham     4516\n",
       "spam     653\n",
       "Name: count, dtype: int64"
      ]
     },
     "execution_count": 14,
     "metadata": {},
     "output_type": "execute_result"
    }
   ],
   "source": [
    "data['result'].value_counts()"
   ]
  },
  {
   "cell_type": "code",
   "execution_count": 15,
   "metadata": {},
   "outputs": [
    {
     "data": {
      "image/png": "[encoded data removed]",
      "text/plain": [
       "<Figure size 800x600 with 1 Axes>"
      ]
     },
     "metadata": {},
     "output_type": "display_data"
    }
   ],
   "source": [
    "plt.figure(figsize=(8, 6))\n",
    "plt.pie(data['result'].value_counts(), labels=data['result'].value_counts().index, autopct='%1.1f%%', startangle=140)\n",
    "plt.title('Distribution of Spam and Non-Spam Emails')\n",
    "plt.axis('equal') \n",
    "plt.show()"
   ]
  },
  {
   "cell_type": "markdown",
   "metadata": {},
   "source": [
    "**2- Average Length of Emails for Spam and Ham**"
   ]
  },
  {
   "cell_type": "code",
   "execution_count": 16,
   "metadata": {},
   "outputs": [],
   "source": [
    "data['Length'] = data['emails'].apply(len)\n"
   ]
  },
  {
   "cell_type": "code",
   "execution_count": 17,
   "metadata": {},
   "outputs": [],
   "source": [
    "# nltk.data.lo\n",
    "data['num_words'] = data['emails'].apply(word_tokenize).apply(len)\n"
   ]
  },
  {
   "cell_type": "code",
   "execution_count": 18,
   "metadata": {},
   "outputs": [],
   "source": [
    "data['num_sentence'] = data['emails'].apply(sent_tokenize).apply(len)\n"
   ]
  },
  {
   "cell_type": "code",
   "execution_count": 19,
   "metadata": {},
   "outputs": [
    {
     "data": {
      "text/html": [
       "<div>\n",
       "<style scoped>\n",
       "    .dataframe tbody tr th:only-of-type {\n",
       "        vertical-align: middle;\n",
       "    }\n",
       "\n",
       "    .dataframe tbody tr th {\n",
       "        vertical-align: top;\n",
       "    }\n",
       "\n",
       "    .dataframe thead th {\n",
       "        text-align: right;\n",
       "    }\n",
       "</style>\n",
       "<table border=\"1\" class=\"dataframe\">\n",
       "  <thead>\n",
       "    <tr style=\"text-align: right;\">\n",
       "      <th></th>\n",
       "      <th>result</th>\n",
       "      <th>emails</th>\n",
       "      <th>Length</th>\n",
       "      <th>num_words</th>\n",
       "      <th>num_sentence</th>\n",
       "    </tr>\n",
       "  </thead>\n",
       "  <tbody>\n",
       "    <tr>\n",
       "      <th>0</th>\n",
       "      <td>ham</td>\n",
       "      <td>Go until jurong point, crazy.. Available only ...</td>\n",
       "      <td>111</td>\n",
       "      <td>24</td>\n",
       "      <td>2</td>\n",
       "    </tr>\n",
       "    <tr>\n",
       "      <th>1</th>\n",
       "      <td>ham</td>\n",
       "      <td>Ok lar... Joking wif u oni...</td>\n",
       "      <td>29</td>\n",
       "      <td>8</td>\n",
       "      <td>2</td>\n",
       "    </tr>\n",
       "    <tr>\n",
       "      <th>2</th>\n",
       "      <td>spam</td>\n",
       "      <td>Free entry in 2 a wkly comp to win FA Cup fina...</td>\n",
       "      <td>155</td>\n",
       "      <td>37</td>\n",
       "      <td>2</td>\n",
       "    </tr>\n",
       "    <tr>\n",
       "      <th>3</th>\n",
       "      <td>ham</td>\n",
       "      <td>U dun say so early hor... U c already then say...</td>\n",
       "      <td>49</td>\n",
       "      <td>13</td>\n",
       "      <td>1</td>\n",
       "    </tr>\n",
       "    <tr>\n",
       "      <th>4</th>\n",
       "      <td>ham</td>\n",
       "      <td>Nah I don't think he goes to usf, he lives aro...</td>\n",
       "      <td>61</td>\n",
       "      <td>15</td>\n",
       "      <td>1</td>\n",
       "    </tr>\n",
       "  </tbody>\n",
       "</table>\n",
       "</div>"
      ],
      "text/plain": [
       "  result                                             emails  Length  \\\n",
       "0    ham  Go until jurong point, crazy.. Available only ...     111   \n",
       "1    ham                      Ok lar... Joking wif u oni...      29   \n",
       "2   spam  Free entry in 2 a wkly comp to win FA Cup fina...     155   \n",
       "3    ham  U dun say so early hor... U c already then say...      49   \n",
       "4    ham  Nah I don't think he goes to usf, he lives aro...      61   \n",
       "\n",
       "   num_words  num_sentence  \n",
       "0         24             2  \n",
       "1          8             2  \n",
       "2         37             2  \n",
       "3         13             1  \n",
       "4         15             1  "
      ]
     },
     "execution_count": 19,
     "metadata": {},
     "output_type": "execute_result"
    }
   ],
   "source": [
    "data.head()"
   ]
  },
  {
   "cell_type": "code",
   "execution_count": 20,
   "metadata": {},
   "outputs": [],
   "source": [
    "avg_length_spam = data[data['result'] == 'spam']['Length'].mean()\n"
   ]
  },
  {
   "cell_type": "code",
   "execution_count": 21,
   "metadata": {},
   "outputs": [],
   "source": [
    "avg_length_ham = data[data['result'] == 'ham']['Length'].mean()"
   ]
  },
  {
   "cell_type": "code",
   "execution_count": 22,
   "metadata": {},
   "outputs": [
    {
     "data": {
      "text/plain": [
       "np.float64(70.45925597874225)"
      ]
     },
     "execution_count": 22,
     "metadata": {},
     "output_type": "execute_result"
    }
   ],
   "source": [
    "avg_length_ham"
   ]
  },
  {
   "cell_type": "code",
   "execution_count": 23,
   "metadata": {},
   "outputs": [
    {
     "name": "stdout",
     "output_type": "stream",
     "text": [
      "Average Length of Spam Emails: 137.89127105666157\n",
      "Average Length of Ham Emails: 70.45925597874225\n"
     ]
    }
   ],
   "source": [
    "print(\"Average Length of Spam Emails:\", avg_length_spam)\n",
    "print(\"Average Length of Ham Emails:\", avg_length_ham)"
   ]
  },
  {
   "cell_type": "code",
   "execution_count": 24,
   "metadata": {},
   "outputs": [
    {
     "data": {
      "image/png": "[encoded data removed]",
      "text/plain": [
       "<Figure size 640x480 with 1 Axes>"
      ]
     },
     "metadata": {},
     "output_type": "display_data"
    }
   ],
   "source": [
    "plt.bar(['Spam', 'Ham'], [avg_length_spam, avg_length_ham], color=['Red', 'green'])\n",
    "plt.title('Average Length of Emails for Spam and Ham')\n",
    "plt.xlabel('Email Type')\n",
    "plt.ylabel('Average Length')\n",
    "plt.show()"
   ]
  },
  {
   "cell_type": "markdown",
   "metadata": {},
   "source": [
    "**3- Average Word of Emails for Spam and Ham**"
   ]
  },
  {
   "cell_type": "code",
   "execution_count": 25,
   "metadata": {},
   "outputs": [],
   "source": [
    "avg_word_spam = data[data['result'] == 'spam']['num_words'].mean()\n",
    "avg_word_ham = data[data['result'] == 'ham']['num_words'].mean()\n"
   ]
  },
  {
   "cell_type": "code",
   "execution_count": 26,
   "metadata": {},
   "outputs": [
    {
     "name": "stdout",
     "output_type": "stream",
     "text": [
      "Average Words of Spam Emails: 27.6676875957121\n",
      "Average Words of Ham Emails: 17.12378210806023\n"
     ]
    }
   ],
   "source": [
    "print(\"Average Words of Spam Emails:\", avg_word_spam)\n",
    "print(\"Average Words of Ham Emails:\", avg_word_ham)"
   ]
  },
  {
   "cell_type": "code",
   "execution_count": 27,
   "metadata": {},
   "outputs": [
    {
     "data": {
      "image/png": "[encoded data removed]",
      "text/plain": [
       "<Figure size 640x480 with 1 Axes>"
      ]
     },
     "metadata": {},
     "output_type": "display_data"
    }
   ],
   "source": [
    "plt.bar(['Spam', 'Ham'], [avg_word_spam, avg_word_ham], color=['Red', 'Green'])\n",
    "plt.title('Average Words of Emails for Spam and Ham')\n",
    "plt.xlabel('Email Type')\n",
    "plt.ylabel('Average Words')\n",
    "plt.show()"
   ]
  },
  {
   "cell_type": "markdown",
   "metadata": {},
   "source": [
    "**4- Average Sentence of Emails for Spam and Ham**"
   ]
  },
  {
   "cell_type": "code",
   "execution_count": 28,
   "metadata": {},
   "outputs": [],
   "source": [
    "avg_sentence_spam = data[data['result'] == 'spam']['num_sentence'].mean()\n",
    "avg_sentence_ham = data[data['result'] == 'ham']['num_sentence'].mean()\n"
   ]
  },
  {
   "cell_type": "code",
   "execution_count": 29,
   "metadata": {},
   "outputs": [
    {
     "name": "stdout",
     "output_type": "stream",
     "text": [
      "Average Sentence of Spam Emails: 2.970903522205207\n",
      "Average Sentence of Ham Emails: 1.8201948627103632\n"
     ]
    }
   ],
   "source": [
    "print(\"Average Sentence of Spam Emails:\", avg_sentence_spam)\n",
    "print(\"Average Sentence of Ham Emails:\", avg_sentence_ham)"
   ]
  },
  {
   "cell_type": "code",
   "execution_count": 30,
   "metadata": {},
   "outputs": [
    {
     "data": {
      "image/png": "[encoded data removed]",
      "text/plain": [
       "<Figure size 640x480 with 1 Axes>"
      ]
     },
     "metadata": {},
     "output_type": "display_data"
    }
   ],
   "source": [
    "plt.bar(['Spam', 'Ham'], [avg_sentence_spam, avg_sentence_ham], color=['Red', 'Green'])\n",
    "plt.title('Average Sentence of Emails for Spam and Ham')\n",
    "plt.xlabel('Email Type')\n",
    "plt.ylabel('Average Sentence')\n",
    "plt.show()"
   ]
  },
  {
   "cell_type": "markdown",
   "metadata": {},
   "source": [
    "**5- Relationship between Length and Spam**"
   ]
  },
  {
   "cell_type": "code",
   "execution_count": 31,
   "metadata": {},
   "outputs": [
    {
     "name": "stdout",
     "output_type": "stream",
     "text": [
      "Correlation coefficient between email length and spam classification: 0.38471706671430717\n"
     ]
    }
   ],
   "source": [
    "correlation = data['Length'].corr((data['result'] == 'spam').astype(int))\n",
    "print(\"Correlation coefficient between email length and spam classification:\", correlation)"
   ]
  },
  {
   "cell_type": "code",
   "execution_count": 32,
   "metadata": {},
   "outputs": [
    {
     "data": {
      "image/png": "[encoded data removed]",
      "text/plain": [
       "<Figure size 640x480 with 1 Axes>"
      ]
     },
     "metadata": {},
     "output_type": "display_data"
    }
   ],
   "source": [
    "sns.violinplot(data=data, x='Length', y='result', hue='result')\n",
    "plt.xlabel('Email Length')\n",
    "plt.ylabel('Spam Classification')\n",
    "plt.title('Relationship between Email Length and Spam Classification')\n",
    "plt.show()"
   ]
  },
  {
   "cell_type": "markdown",
   "metadata": {},
   "source": [
    "**6- Relationship between Features**"
   ]
  },
  {
   "cell_type": "code",
   "execution_count": 33,
   "metadata": {},
   "outputs": [
    {
     "name": "stdout",
     "output_type": "stream",
     "text": [
      "The Relationship between Features are                  Length  num_words  num_sentence\n",
      "Length        1.000000   0.965760      0.624139\n",
      "num_words     0.965760   1.000000      0.679971\n",
      "num_sentence  0.624139   0.679971      1.000000\n"
     ]
    }
   ],
   "source": [
    "correlation_matrix = data[['Length', 'num_words', 'num_sentence']].corr()\n",
    "print(\"The Relationship between Features are \",correlation_matrix )"
   ]
  },
  {
   "cell_type": "code",
   "execution_count": 34,
   "metadata": {},
   "outputs": [
    {
     "data": {
      "image/png": "[encoded data removed]",
      "text/plain": [
       "<Figure size 800x600 with 2 Axes>"
      ]
     },
     "metadata": {},
     "output_type": "display_data"
    }
   ],
   "source": [
    "plt.figure(figsize=(8, 6))\n",
    "sns.heatmap(correlation_matrix, annot=True, cmap='coolwarm', fmt=\".2f\", linewidths=.5)\n",
    "plt.title('Correlation Matrix of Features')\n",
    "plt.xlabel('Features')\n",
    "plt.ylabel('Features')\n",
    "plt.show()"
   ]
  },
  {
   "cell_type": "markdown",
   "metadata": {},
   "source": [
    "### Data Preprocessing"
   ]
  },
  {
   "cell_type": "code",
   "execution_count": 35,
   "metadata": {},
   "outputs": [],
   "source": [
    "data['transform_text'] = data['emails'].str.lower()"
   ]
  },
  {
   "cell_type": "code",
   "execution_count": 36,
   "metadata": {},
   "outputs": [
    {
     "data": {
      "text/html": [
       "<div>\n",
       "<style scoped>\n",
       "    .dataframe tbody tr th:only-of-type {\n",
       "        vertical-align: middle;\n",
       "    }\n",
       "\n",
       "    .dataframe tbody tr th {\n",
       "        vertical-align: top;\n",
       "    }\n",
       "\n",
       "    .dataframe thead th {\n",
       "        text-align: right;\n",
       "    }\n",
       "</style>\n",
       "<table border=\"1\" class=\"dataframe\">\n",
       "  <thead>\n",
       "    <tr style=\"text-align: right;\">\n",
       "      <th></th>\n",
       "      <th>result</th>\n",
       "      <th>emails</th>\n",
       "      <th>Length</th>\n",
       "      <th>num_words</th>\n",
       "      <th>num_sentence</th>\n",
       "      <th>transform_text</th>\n",
       "    </tr>\n",
       "  </thead>\n",
       "  <tbody>\n",
       "    <tr>\n",
       "      <th>0</th>\n",
       "      <td>ham</td>\n",
       "      <td>Go until jurong point, crazy.. Available only ...</td>\n",
       "      <td>111</td>\n",
       "      <td>24</td>\n",
       "      <td>2</td>\n",
       "      <td>go until jurong point, crazy.. available only ...</td>\n",
       "    </tr>\n",
       "    <tr>\n",
       "      <th>1</th>\n",
       "      <td>ham</td>\n",
       "      <td>Ok lar... Joking wif u oni...</td>\n",
       "      <td>29</td>\n",
       "      <td>8</td>\n",
       "      <td>2</td>\n",
       "      <td>ok lar... joking wif u oni...</td>\n",
       "    </tr>\n",
       "  </tbody>\n",
       "</table>\n",
       "</div>"
      ],
      "text/plain": [
       "  result                                             emails  Length  \\\n",
       "0    ham  Go until jurong point, crazy.. Available only ...     111   \n",
       "1    ham                      Ok lar... Joking wif u oni...      29   \n",
       "\n",
       "   num_words  num_sentence                                     transform_text  \n",
       "0         24             2  go until jurong point, crazy.. available only ...  \n",
       "1          8             2                      ok lar... joking wif u oni...  "
      ]
     },
     "execution_count": 36,
     "metadata": {},
     "output_type": "execute_result"
    }
   ],
   "source": [
    "data.head(2)"
   ]
  },
  {
   "cell_type": "code",
   "execution_count": 37,
   "metadata": {},
   "outputs": [],
   "source": [
    "data['transform_text'] = data['transform_text'].apply(word_tokenize)"
   ]
  },
  {
   "cell_type": "code",
   "execution_count": 38,
   "metadata": {},
   "outputs": [
    {
     "data": {
      "text/html": [
       "<div>\n",
       "<style scoped>\n",
       "    .dataframe tbody tr th:only-of-type {\n",
       "        vertical-align: middle;\n",
       "    }\n",
       "\n",
       "    .dataframe tbody tr th {\n",
       "        vertical-align: top;\n",
       "    }\n",
       "\n",
       "    .dataframe thead th {\n",
       "        text-align: right;\n",
       "    }\n",
       "</style>\n",
       "<table border=\"1\" class=\"dataframe\">\n",
       "  <thead>\n",
       "    <tr style=\"text-align: right;\">\n",
       "      <th></th>\n",
       "      <th>result</th>\n",
       "      <th>emails</th>\n",
       "      <th>Length</th>\n",
       "      <th>num_words</th>\n",
       "      <th>num_sentence</th>\n",
       "      <th>transform_text</th>\n",
       "    </tr>\n",
       "  </thead>\n",
       "  <tbody>\n",
       "    <tr>\n",
       "      <th>0</th>\n",
       "      <td>ham</td>\n",
       "      <td>Go until jurong point, crazy.. Available only ...</td>\n",
       "      <td>111</td>\n",
       "      <td>24</td>\n",
       "      <td>2</td>\n",
       "      <td>[go, until, jurong, point, ,, crazy, .., avail...</td>\n",
       "    </tr>\n",
       "    <tr>\n",
       "      <th>1</th>\n",
       "      <td>ham</td>\n",
       "      <td>Ok lar... Joking wif u oni...</td>\n",
       "      <td>29</td>\n",
       "      <td>8</td>\n",
       "      <td>2</td>\n",
       "      <td>[ok, lar, ..., joking, wif, u, oni, ...]</td>\n",
       "    </tr>\n",
       "  </tbody>\n",
       "</table>\n",
       "</div>"
      ],
      "text/plain": [
       "  result                                             emails  Length  \\\n",
       "0    ham  Go until jurong point, crazy.. Available only ...     111   \n",
       "1    ham                      Ok lar... Joking wif u oni...      29   \n",
       "\n",
       "   num_words  num_sentence                                     transform_text  \n",
       "0         24             2  [go, until, jurong, point, ,, crazy, .., avail...  \n",
       "1          8             2           [ok, lar, ..., joking, wif, u, oni, ...]  "
      ]
     },
     "execution_count": 38,
     "metadata": {},
     "output_type": "execute_result"
    }
   ],
   "source": [
    "data.head(2)"
   ]
  },
  {
   "cell_type": "code",
   "execution_count": 39,
   "metadata": {},
   "outputs": [],
   "source": [
    "data['transform_text'] = data['transform_text'].apply(lambda x: [re.sub(r'[^a-zA-Z0-9\\s]', '', word) for word in x])"
   ]
  },
  {
   "cell_type": "code",
   "execution_count": 40,
   "metadata": {},
   "outputs": [
    {
     "data": {
      "text/html": [
       "<div>\n",
       "<style scoped>\n",
       "    .dataframe tbody tr th:only-of-type {\n",
       "        vertical-align: middle;\n",
       "    }\n",
       "\n",
       "    .dataframe tbody tr th {\n",
       "        vertical-align: top;\n",
       "    }\n",
       "\n",
       "    .dataframe thead th {\n",
       "        text-align: right;\n",
       "    }\n",
       "</style>\n",
       "<table border=\"1\" class=\"dataframe\">\n",
       "  <thead>\n",
       "    <tr style=\"text-align: right;\">\n",
       "      <th></th>\n",
       "      <th>result</th>\n",
       "      <th>emails</th>\n",
       "      <th>Length</th>\n",
       "      <th>num_words</th>\n",
       "      <th>num_sentence</th>\n",
       "      <th>transform_text</th>\n",
       "    </tr>\n",
       "  </thead>\n",
       "  <tbody>\n",
       "    <tr>\n",
       "      <th>0</th>\n",
       "      <td>ham</td>\n",
       "      <td>Go until jurong point, crazy.. Available only ...</td>\n",
       "      <td>111</td>\n",
       "      <td>24</td>\n",
       "      <td>2</td>\n",
       "      <td>[go, until, jurong, point, , crazy, , availabl...</td>\n",
       "    </tr>\n",
       "    <tr>\n",
       "      <th>1</th>\n",
       "      <td>ham</td>\n",
       "      <td>Ok lar... Joking wif u oni...</td>\n",
       "      <td>29</td>\n",
       "      <td>8</td>\n",
       "      <td>2</td>\n",
       "      <td>[ok, lar, , joking, wif, u, oni, ]</td>\n",
       "    </tr>\n",
       "  </tbody>\n",
       "</table>\n",
       "</div>"
      ],
      "text/plain": [
       "  result                                             emails  Length  \\\n",
       "0    ham  Go until jurong point, crazy.. Available only ...     111   \n",
       "1    ham                      Ok lar... Joking wif u oni...      29   \n",
       "\n",
       "   num_words  num_sentence                                     transform_text  \n",
       "0         24             2  [go, until, jurong, point, , crazy, , availabl...  \n",
       "1          8             2                 [ok, lar, , joking, wif, u, oni, ]  "
      ]
     },
     "execution_count": 40,
     "metadata": {},
     "output_type": "execute_result"
    }
   ],
   "source": [
    "data.head(2)"
   ]
  },
  {
   "cell_type": "code",
   "execution_count": 41,
   "metadata": {},
   "outputs": [],
   "source": [
    "stop_words = set(stopwords.words('english'))\n",
    "data['transform_text'] = data['transform_text'].apply(lambda x: [word for word in x if word not in stop_words and word not in string.punctuation])"
   ]
  },
  {
   "cell_type": "code",
   "execution_count": 42,
   "metadata": {},
   "outputs": [
    {
     "data": {
      "text/html": [
       "<div>\n",
       "<style scoped>\n",
       "    .dataframe tbody tr th:only-of-type {\n",
       "        vertical-align: middle;\n",
       "    }\n",
       "\n",
       "    .dataframe tbody tr th {\n",
       "        vertical-align: top;\n",
       "    }\n",
       "\n",
       "    .dataframe thead th {\n",
       "        text-align: right;\n",
       "    }\n",
       "</style>\n",
       "<table border=\"1\" class=\"dataframe\">\n",
       "  <thead>\n",
       "    <tr style=\"text-align: right;\">\n",
       "      <th></th>\n",
       "      <th>result</th>\n",
       "      <th>emails</th>\n",
       "      <th>Length</th>\n",
       "      <th>num_words</th>\n",
       "      <th>num_sentence</th>\n",
       "      <th>transform_text</th>\n",
       "    </tr>\n",
       "  </thead>\n",
       "  <tbody>\n",
       "    <tr>\n",
       "      <th>0</th>\n",
       "      <td>ham</td>\n",
       "      <td>Go until jurong point, crazy.. Available only ...</td>\n",
       "      <td>111</td>\n",
       "      <td>24</td>\n",
       "      <td>2</td>\n",
       "      <td>[go, jurong, point, crazy, available, bugis, n...</td>\n",
       "    </tr>\n",
       "    <tr>\n",
       "      <th>1</th>\n",
       "      <td>ham</td>\n",
       "      <td>Ok lar... Joking wif u oni...</td>\n",
       "      <td>29</td>\n",
       "      <td>8</td>\n",
       "      <td>2</td>\n",
       "      <td>[ok, lar, joking, wif, u, oni]</td>\n",
       "    </tr>\n",
       "  </tbody>\n",
       "</table>\n",
       "</div>"
      ],
      "text/plain": [
       "  result                                             emails  Length  \\\n",
       "0    ham  Go until jurong point, crazy.. Available only ...     111   \n",
       "1    ham                      Ok lar... Joking wif u oni...      29   \n",
       "\n",
       "   num_words  num_sentence                                     transform_text  \n",
       "0         24             2  [go, jurong, point, crazy, available, bugis, n...  \n",
       "1          8             2                     [ok, lar, joking, wif, u, oni]  "
      ]
     },
     "execution_count": 42,
     "metadata": {},
     "output_type": "execute_result"
    }
   ],
   "source": [
    "data.head(2)"
   ]
  },
  {
   "cell_type": "code",
   "execution_count": 43,
   "metadata": {},
   "outputs": [],
   "source": [
    "ps = PorterStemmer()\n",
    "data['transform_text'] = data['transform_text'].apply(lambda x: [ps.stem(word) for word in x])"
   ]
  },
  {
   "cell_type": "code",
   "execution_count": 44,
   "metadata": {},
   "outputs": [
    {
     "data": {
      "text/html": [
       "<div>\n",
       "<style scoped>\n",
       "    .dataframe tbody tr th:only-of-type {\n",
       "        vertical-align: middle;\n",
       "    }\n",
       "\n",
       "    .dataframe tbody tr th {\n",
       "        vertical-align: top;\n",
       "    }\n",
       "\n",
       "    .dataframe thead th {\n",
       "        text-align: right;\n",
       "    }\n",
       "</style>\n",
       "<table border=\"1\" class=\"dataframe\">\n",
       "  <thead>\n",
       "    <tr style=\"text-align: right;\">\n",
       "      <th></th>\n",
       "      <th>result</th>\n",
       "      <th>emails</th>\n",
       "      <th>Length</th>\n",
       "      <th>num_words</th>\n",
       "      <th>num_sentence</th>\n",
       "      <th>transform_text</th>\n",
       "    </tr>\n",
       "  </thead>\n",
       "  <tbody>\n",
       "    <tr>\n",
       "      <th>0</th>\n",
       "      <td>ham</td>\n",
       "      <td>Go until jurong point, crazy.. Available only ...</td>\n",
       "      <td>111</td>\n",
       "      <td>24</td>\n",
       "      <td>2</td>\n",
       "      <td>[go, jurong, point, crazi, avail, bugi, n, gre...</td>\n",
       "    </tr>\n",
       "    <tr>\n",
       "      <th>1</th>\n",
       "      <td>ham</td>\n",
       "      <td>Ok lar... Joking wif u oni...</td>\n",
       "      <td>29</td>\n",
       "      <td>8</td>\n",
       "      <td>2</td>\n",
       "      <td>[ok, lar, joke, wif, u, oni]</td>\n",
       "    </tr>\n",
       "  </tbody>\n",
       "</table>\n",
       "</div>"
      ],
      "text/plain": [
       "  result                                             emails  Length  \\\n",
       "0    ham  Go until jurong point, crazy.. Available only ...     111   \n",
       "1    ham                      Ok lar... Joking wif u oni...      29   \n",
       "\n",
       "   num_words  num_sentence                                     transform_text  \n",
       "0         24             2  [go, jurong, point, crazi, avail, bugi, n, gre...  \n",
       "1          8             2                       [ok, lar, joke, wif, u, oni]  "
      ]
     },
     "execution_count": 44,
     "metadata": {},
     "output_type": "execute_result"
    }
   ],
   "source": [
    "data.head(2)"
   ]
  },
  {
   "cell_type": "code",
   "execution_count": 45,
   "metadata": {},
   "outputs": [],
   "source": [
    "data['transform_text'] = data['transform_text'].apply(lambda x: ' '.join(x))"
   ]
  },
  {
   "cell_type": "code",
   "execution_count": 46,
   "metadata": {},
   "outputs": [
    {
     "data": {
      "text/html": [
       "<div>\n",
       "<style scoped>\n",
       "    .dataframe tbody tr th:only-of-type {\n",
       "        vertical-align: middle;\n",
       "    }\n",
       "\n",
       "    .dataframe tbody tr th {\n",
       "        vertical-align: top;\n",
       "    }\n",
       "\n",
       "    .dataframe thead th {\n",
       "        text-align: right;\n",
       "    }\n",
       "</style>\n",
       "<table border=\"1\" class=\"dataframe\">\n",
       "  <thead>\n",
       "    <tr style=\"text-align: right;\">\n",
       "      <th></th>\n",
       "      <th>result</th>\n",
       "      <th>emails</th>\n",
       "      <th>Length</th>\n",
       "      <th>num_words</th>\n",
       "      <th>num_sentence</th>\n",
       "      <th>transform_text</th>\n",
       "    </tr>\n",
       "  </thead>\n",
       "  <tbody>\n",
       "    <tr>\n",
       "      <th>0</th>\n",
       "      <td>ham</td>\n",
       "      <td>Go until jurong point, crazy.. Available only ...</td>\n",
       "      <td>111</td>\n",
       "      <td>24</td>\n",
       "      <td>2</td>\n",
       "      <td>go jurong point crazi avail bugi n great world...</td>\n",
       "    </tr>\n",
       "    <tr>\n",
       "      <th>1</th>\n",
       "      <td>ham</td>\n",
       "      <td>Ok lar... Joking wif u oni...</td>\n",
       "      <td>29</td>\n",
       "      <td>8</td>\n",
       "      <td>2</td>\n",
       "      <td>ok lar joke wif u oni</td>\n",
       "    </tr>\n",
       "  </tbody>\n",
       "</table>\n",
       "</div>"
      ],
      "text/plain": [
       "  result                                             emails  Length  \\\n",
       "0    ham  Go until jurong point, crazy.. Available only ...     111   \n",
       "1    ham                      Ok lar... Joking wif u oni...      29   \n",
       "\n",
       "   num_words  num_sentence                                     transform_text  \n",
       "0         24             2  go jurong point crazi avail bugi n great world...  \n",
       "1          8             2                              ok lar joke wif u oni  "
      ]
     },
     "execution_count": 46,
     "metadata": {},
     "output_type": "execute_result"
    }
   ],
   "source": [
    "data.head(2)"
   ]
  },
  {
   "cell_type": "code",
   "execution_count": 47,
   "metadata": {},
   "outputs": [
    {
     "data": {
      "text/html": [
       "<div>\n",
       "<style scoped>\n",
       "    .dataframe tbody tr th:only-of-type {\n",
       "        vertical-align: middle;\n",
       "    }\n",
       "\n",
       "    .dataframe tbody tr th {\n",
       "        vertical-align: top;\n",
       "    }\n",
       "\n",
       "    .dataframe thead th {\n",
       "        text-align: right;\n",
       "    }\n",
       "</style>\n",
       "<table border=\"1\" class=\"dataframe\">\n",
       "  <thead>\n",
       "    <tr style=\"text-align: right;\">\n",
       "      <th></th>\n",
       "      <th>emails</th>\n",
       "      <th>transform_text</th>\n",
       "    </tr>\n",
       "  </thead>\n",
       "  <tbody>\n",
       "    <tr>\n",
       "      <th>0</th>\n",
       "      <td>Go until jurong point, crazy.. Available only ...</td>\n",
       "      <td>go jurong point crazi avail bugi n great world...</td>\n",
       "    </tr>\n",
       "    <tr>\n",
       "      <th>1</th>\n",
       "      <td>Ok lar... Joking wif u oni...</td>\n",
       "      <td>ok lar joke wif u oni</td>\n",
       "    </tr>\n",
       "    <tr>\n",
       "      <th>2</th>\n",
       "      <td>Free entry in 2 a wkly comp to win FA Cup fina...</td>\n",
       "      <td>free entri 2 wkli comp win fa cup final tkt 21...</td>\n",
       "    </tr>\n",
       "    <tr>\n",
       "      <th>3</th>\n",
       "      <td>U dun say so early hor... U c already then say...</td>\n",
       "      <td>u dun say earli hor u c alreadi say</td>\n",
       "    </tr>\n",
       "    <tr>\n",
       "      <th>4</th>\n",
       "      <td>Nah I don't think he goes to usf, he lives aro...</td>\n",
       "      <td>nah nt think goe usf live around though</td>\n",
       "    </tr>\n",
       "  </tbody>\n",
       "</table>\n",
       "</div>"
      ],
      "text/plain": [
       "                                              emails  \\\n",
       "0  Go until jurong point, crazy.. Available only ...   \n",
       "1                      Ok lar... Joking wif u oni...   \n",
       "2  Free entry in 2 a wkly comp to win FA Cup fina...   \n",
       "3  U dun say so early hor... U c already then say...   \n",
       "4  Nah I don't think he goes to usf, he lives aro...   \n",
       "\n",
       "                                      transform_text  \n",
       "0  go jurong point crazi avail bugi n great world...  \n",
       "1                              ok lar joke wif u oni  \n",
       "2  free entri 2 wkli comp win fa cup final tkt 21...  \n",
       "3                u dun say earli hor u c alreadi say  \n",
       "4            nah nt think goe usf live around though  "
      ]
     },
     "execution_count": 47,
     "metadata": {},
     "output_type": "execute_result"
    }
   ],
   "source": [
    "data[['emails', 'transform_text']].head()"
   ]
  },
  {
   "cell_type": "markdown",
   "metadata": {},
   "source": [
    "**7- Most Common Words in Spam Emails**"
   ]
  },
  {
   "cell_type": "code",
   "execution_count": 48,
   "metadata": {},
   "outputs": [],
   "source": [
    "spam_emails = data[data['result'] == 'spam']['transform_text']"
   ]
  },
  {
   "cell_type": "code",
   "execution_count": 49,
   "metadata": {},
   "outputs": [],
   "source": [
    "spam_words = ' '.join(spam_emails).split()"
   ]
  },
  {
   "cell_type": "code",
   "execution_count": 50,
   "metadata": {},
   "outputs": [],
   "source": [
    "word_counts = Counter(spam_words)\n"
   ]
  },
  {
   "cell_type": "code",
   "execution_count": 51,
   "metadata": {},
   "outputs": [
    {
     "data": {
      "text/plain": [
       "Counter({'call': 321,\n",
       "         'free': 191,\n",
       "         '2': 157,\n",
       "         'txt': 141,\n",
       "         'u': 135,\n",
       "         'text': 122,\n",
       "         'ur': 119,\n",
       "         'mobil': 114,\n",
       "         'stop': 106,\n",
       "         'repli': 103,\n",
       "         '4': 100,\n",
       "         'claim': 98,\n",
       "         'prize': 82,\n",
       "         'get': 74,\n",
       "         'new': 64,\n",
       "         'servic': 64,\n",
       "         'tone': 63,\n",
       "         'send': 60,\n",
       "         'urgent': 58,\n",
       "         'nokia': 57,\n",
       "         'contact': 56,\n",
       "         'award': 55,\n",
       "         'phone': 52,\n",
       "         'cash': 51,\n",
       "         'pleas': 51,\n",
       "         'week': 49,\n",
       "         'win': 48,\n",
       "         'c': 46,\n",
       "         'collect': 45,\n",
       "         'min': 45,\n",
       "         'messag': 43,\n",
       "         'custom': 42,\n",
       "         'guarante': 42,\n",
       "         'per': 41,\n",
       "         '1000': 39,\n",
       "         '18': 38,\n",
       "         'chat': 38,\n",
       "         '16': 37,\n",
       "         'tri': 37,\n",
       "         'msg': 36,\n",
       "         '500': 36,\n",
       "         'draw': 35,\n",
       "         'number': 35,\n",
       "         'cs': 35,\n",
       "         '1': 33,\n",
       "         'show': 33,\n",
       "         '2000': 33,\n",
       "         'today': 33,\n",
       "         'go': 33,\n",
       "         'offer': 33,\n",
       "         'line': 33,\n",
       "         '100': 32,\n",
       "         'receiv': 31,\n",
       "         '150': 31,\n",
       "         'rington': 31,\n",
       "         'want': 31,\n",
       "         'latest': 30,\n",
       "         'landlin': 30,\n",
       "         '150ppm': 29,\n",
       "         'video': 29,\n",
       "         '150p': 28,\n",
       "         'voucher': 28,\n",
       "         '3': 27,\n",
       "         'code': 27,\n",
       "         'holiday': 27,\n",
       "         'rate': 26,\n",
       "         'network': 26,\n",
       "         'select': 26,\n",
       "         'date': 26,\n",
       "         'box': 26,\n",
       "         'day': 26,\n",
       "         'everi': 26,\n",
       "         'end': 25,\n",
       "         'appli': 24,\n",
       "         'r': 24,\n",
       "         'cost': 24,\n",
       "         'po': 24,\n",
       "         'orang': 24,\n",
       "         'await': 24,\n",
       "         'camera': 23,\n",
       "         'poli': 23,\n",
       "         'chanc': 22,\n",
       "         'charg': 22,\n",
       "         'sm': 22,\n",
       "         'live': 22,\n",
       "         'attempt': 22,\n",
       "         'entri': 21,\n",
       "         'word': 21,\n",
       "         'valid': 21,\n",
       "         'find': 21,\n",
       "         'back': 20,\n",
       "         'uk': 20,\n",
       "         'mob': 20,\n",
       "         'game': 20,\n",
       "         'weekli': 20,\n",
       "         '250': 20,\n",
       "         '800': 20,\n",
       "         'pound': 19,\n",
       "         'know': 19,\n",
       "         'club': 19,\n",
       "         '1st': 19,\n",
       "         '2nd': 19,\n",
       "         '8007': 19,\n",
       "         'pic': 19,\n",
       "         'credit': 18,\n",
       "         'http': 18,\n",
       "         'deliveri': 18,\n",
       "         'account': 18,\n",
       "         'join': 18,\n",
       "         '750': 18,\n",
       "         'sae': 18,\n",
       "         'time': 18,\n",
       "         'bonu': 17,\n",
       "         '5000': 17,\n",
       "         'wait': 17,\n",
       "         'expir': 17,\n",
       "         'order': 17,\n",
       "         'unsubscrib': 17,\n",
       "         'wk': 17,\n",
       "         'colour': 16,\n",
       "         'next': 16,\n",
       "         'thank': 16,\n",
       "         '08000930705': 16,\n",
       "         'special': 16,\n",
       "         '12hr': 16,\n",
       "         'privat': 16,\n",
       "         'see': 16,\n",
       "         'take': 16,\n",
       "         'land': 16,\n",
       "         'dear': 16,\n",
       "         'gift': 16,\n",
       "         'camcord': 15,\n",
       "         'statement': 15,\n",
       "         'unredeem': 15,\n",
       "         'point': 15,\n",
       "         'identifi': 15,\n",
       "         'name': 15,\n",
       "         'music': 15,\n",
       "         'xma': 15,\n",
       "         'price': 15,\n",
       "         'enter': 15,\n",
       "         'hi': 15,\n",
       "         'auction': 15,\n",
       "         'final': 14,\n",
       "         'freemsg': 14,\n",
       "         'updat': 14,\n",
       "         'play': 14,\n",
       "         'match': 14,\n",
       "         'top': 14,\n",
       "         'yr': 14,\n",
       "         'sexi': 14,\n",
       "         'content': 14,\n",
       "         '86688': 14,\n",
       "         'help': 14,\n",
       "         'winner': 13,\n",
       "         'weekend': 13,\n",
       "         'ltd': 13,\n",
       "         'friend': 13,\n",
       "         'someon': 13,\n",
       "         '10p': 13,\n",
       "         'hot': 13,\n",
       "         'doubl': 13,\n",
       "         'mobileupd8': 13,\n",
       "         '2003': 13,\n",
       "         'tell': 13,\n",
       "         'like': 12,\n",
       "         'use': 12,\n",
       "         'eg': 12,\n",
       "         'ye': 12,\n",
       "         'last': 12,\n",
       "         'caller': 12,\n",
       "         '350': 12,\n",
       "         'real': 12,\n",
       "         'dog': 12,\n",
       "         'nt': 12,\n",
       "         'start': 12,\n",
       "         'reveal': 12,\n",
       "         'congratul': 12,\n",
       "         'anytim': 12,\n",
       "         '200': 12,\n",
       "         'minut': 12,\n",
       "         '150pmsg': 12,\n",
       "         'fanci': 12,\n",
       "         '08000839402': 12,\n",
       "         'half': 12,\n",
       "         'good': 12,\n",
       "         'enjoy': 12,\n",
       "         'info': 11,\n",
       "         'pobox': 11,\n",
       "         'nation': 11,\n",
       "         'complimentari': 11,\n",
       "         '10': 11,\n",
       "         'oper': 11,\n",
       "         'make': 11,\n",
       "         'think': 11,\n",
       "         'cd': 11,\n",
       "         'current': 11,\n",
       "         'rental': 11,\n",
       "         'import': 11,\n",
       "         'need': 11,\n",
       "         'wan': 11,\n",
       "         'b': 11,\n",
       "         'xxx': 10,\n",
       "         'wap': 10,\n",
       "         'tomorrow': 10,\n",
       "         'follow': 10,\n",
       "         'player': 10,\n",
       "         'sent': 10,\n",
       "         'direct': 10,\n",
       "         'invit': 10,\n",
       "         '87066': 10,\n",
       "         'unlimit': 10,\n",
       "         'easi': 10,\n",
       "         'babe': 10,\n",
       "         'motorola': 10,\n",
       "         'love': 10,\n",
       "         'ipod': 10,\n",
       "         'shop': 10,\n",
       "         'one': 10,\n",
       "         'opt': 10,\n",
       "         'sex': 10,\n",
       "         '5': 10,\n",
       "         'na': 10,\n",
       "         'wkli': 9,\n",
       "         'question': 9,\n",
       "         'reward': 9,\n",
       "         'dont': 9,\n",
       "         'year': 9,\n",
       "         '0800': 9,\n",
       "         'quiz': 9,\n",
       "         'age': 9,\n",
       "         'pl': 9,\n",
       "         'look': 9,\n",
       "         'choos': 9,\n",
       "         '300': 9,\n",
       "         'ts': 9,\n",
       "         'subscrib': 9,\n",
       "         'chariti': 9,\n",
       "         '10pmin': 9,\n",
       "         'girl': 9,\n",
       "         'inform': 9,\n",
       "         'great': 9,\n",
       "         'comp': 8,\n",
       "         'fun': 8,\n",
       "         'valu': 8,\n",
       "         '12': 8,\n",
       "         'miss': 8,\n",
       "         'news': 8,\n",
       "         '87077': 8,\n",
       "         'access': 8,\n",
       "         'x': 8,\n",
       "         'welcom': 8,\n",
       "         'term': 8,\n",
       "         'worth': 8,\n",
       "         'savamob': 8,\n",
       "         'area': 8,\n",
       "         'mate': 8,\n",
       "         'either': 8,\n",
       "         'bid': 8,\n",
       "         'user': 8,\n",
       "         '08712460324': 8,\n",
       "         'lucki': 8,\n",
       "         'give': 8,\n",
       "         'part': 8,\n",
       "         'fantasi': 8,\n",
       "         'std': 7,\n",
       "         'england': 7,\n",
       "         'inc': 7,\n",
       "         'speak': 7,\n",
       "         '2004': 7,\n",
       "         'txting': 7,\n",
       "         'download': 7,\n",
       "         'even': 7,\n",
       "         'secret': 7,\n",
       "         'admir': 7,\n",
       "         'tnc': 7,\n",
       "         'horni': 7,\n",
       "         'sport': 7,\n",
       "         '11mth': 7,\n",
       "         'cashbal': 7,\n",
       "         'maxim': 7,\n",
       "         'cashin': 7,\n",
       "         'hgsuite3422land': 7,\n",
       "         'bluetooth': 7,\n",
       "         '3030': 7,\n",
       "         'ldn': 7,\n",
       "         'optout': 7,\n",
       "         'tenerif': 7,\n",
       "         'tc': 7,\n",
       "         'us': 7,\n",
       "         'custcar': 7,\n",
       "         'remov': 7,\n",
       "         '25p': 7,\n",
       "         'gr8': 7,\n",
       "         'fantast': 7,\n",
       "         'best': 7,\n",
       "         'night': 7,\n",
       "         'could': 7,\n",
       "         'summer': 7,\n",
       "         'store': 7,\n",
       "         '10000': 7,\n",
       "         'ntt': 7,\n",
       "         'log': 7,\n",
       "         'onto': 7,\n",
       "         'n': 7,\n",
       "         'plu': 7,\n",
       "         'bill': 7,\n",
       "         'btnationalr': 7,\n",
       "         'im': 7,\n",
       "         'detail': 7,\n",
       "         '450': 7,\n",
       "         '400': 7,\n",
       "         'may': 6,\n",
       "         '900': 6,\n",
       "         'entitl': 6,\n",
       "         'link': 6,\n",
       "         'congrat': 6,\n",
       "         'etc': 6,\n",
       "         'repres': 6,\n",
       "         'flight': 6,\n",
       "         '08712300220': 6,\n",
       "         'quot': 6,\n",
       "         'standard': 6,\n",
       "         'sp': 6,\n",
       "         'ufind': 6,\n",
       "         'specialcal': 6,\n",
       "         'handset': 6,\n",
       "         'answer': 6,\n",
       "         'loyalti': 6,\n",
       "         'cc': 6,\n",
       "         'discount': 6,\n",
       "         'first': 6,\n",
       "         'logo': 6,\n",
       "         '40gb': 6,\n",
       "         '6': 6,\n",
       "         'member': 6,\n",
       "         'sub': 6,\n",
       "         'age16': 6,\n",
       "         'spree': 6,\n",
       "         'holder': 6,\n",
       "         'pc': 6,\n",
       "         'b4': 6,\n",
       "         'book': 6,\n",
       "         'wwwgetzedcouk': 6,\n",
       "         'extra': 6,\n",
       "         'zed': 6,\n",
       "         'care': 6,\n",
       "         'record': 6,\n",
       "         'asap': 6,\n",
       "         'gay': 6,\n",
       "         'guess': 6,\n",
       "         'digit': 6,\n",
       "         'an': 6,\n",
       "         'wwwurawinnercom': 6,\n",
       "         'luck': 6,\n",
       "         'got': 6,\n",
       "         '0870': 6,\n",
       "         'arriv': 6,\n",
       "         'titl': 6,\n",
       "         'del': 6,\n",
       "         'pick': 6,\n",
       "         'hey': 5,\n",
       "         'still': 5,\n",
       "         'ok': 5,\n",
       "         'month': 5,\n",
       "         'click': 5,\n",
       "         'subscript': 5,\n",
       "         'pass': 5,\n",
       "         '150pm': 5,\n",
       "         'come': 5,\n",
       "         'voda': 5,\n",
       "         'sunshin': 5,\n",
       "         'soni': 5,\n",
       "         'dvd': 5,\n",
       "         'locat': 5,\n",
       "         'bt': 5,\n",
       "         'must': 5,\n",
       "         'local': 5,\n",
       "         'luv': 5,\n",
       "         'frnd': 5,\n",
       "         '62468': 5,\n",
       "         'goto': 5,\n",
       "         'meet': 5,\n",
       "         'partner': 5,\n",
       "         'flirt': 5,\n",
       "         'singl': 5,\n",
       "         'sim': 5,\n",
       "         'themob': 5,\n",
       "         'keep': 5,\n",
       "         'rcvd': 5,\n",
       "         'sonyericsson': 5,\n",
       "         'eve': 5,\n",
       "         'pobox36504w45wq': 5,\n",
       "         'activ': 5,\n",
       "         'visit': 5,\n",
       "         'mp3': 5,\n",
       "         'ring': 5,\n",
       "         'announc': 5,\n",
       "         'guy': 5,\n",
       "         'vodafon': 5,\n",
       "         '80062': 5,\n",
       "         'immedi': 5,\n",
       "         'alert': 5,\n",
       "         '50': 5,\n",
       "         'txtauction': 5,\n",
       "         'break': 5,\n",
       "         'no1': 5,\n",
       "         'talk': 5,\n",
       "         '08718720201': 5,\n",
       "         'regist': 5,\n",
       "         'ask': 5,\n",
       "         'xchat': 5,\n",
       "         'o2': 5,\n",
       "         'surpris': 5,\n",
       "         'readi': 5,\n",
       "         '20p': 5,\n",
       "         '1327': 5,\n",
       "         'croydon': 5,\n",
       "         'cr9': 5,\n",
       "         '5wb': 5,\n",
       "         'reach': 5,\n",
       "         '86021': 5,\n",
       "         'eeri': 5,\n",
       "         'rpli': 5,\n",
       "         'comput': 5,\n",
       "         'fone': 5,\n",
       "         'flag': 5,\n",
       "         'spook': 5,\n",
       "         'tariff': 5,\n",
       "         'crazi': 5,\n",
       "         'cancel': 5,\n",
       "         '3510i': 5,\n",
       "         'hour': 4,\n",
       "         '11': 4,\n",
       "         'v': 4,\n",
       "         'ac': 4,\n",
       "         'correct': 4,\n",
       "         'recent': 4,\n",
       "         'app': 4,\n",
       "         'laid': 4,\n",
       "         'largest': 4,\n",
       "         'ec2a': 4,\n",
       "         'noth': 4,\n",
       "         'netcollex': 4,\n",
       "         'tv': 4,\n",
       "         'freephon': 4,\n",
       "         '2optout': 4,\n",
       "         'e': 4,\n",
       "         'g': 4,\n",
       "         'hmv': 4,\n",
       "         'upgrad': 4,\n",
       "         'card': 4,\n",
       "         '4u': 4,\n",
       "         'check': 4,\n",
       "         'decemb': 4,\n",
       "         '85': 4,\n",
       "         '83600': 4,\n",
       "         'roww1j6hl': 4,\n",
       "         'refer': 4,\n",
       "         '87131': 4,\n",
       "         'ad': 4,\n",
       "         'vari': 4,\n",
       "         'post': 4,\n",
       "         'cw25wx': 4,\n",
       "         'condit': 4,\n",
       "         '83355': 4,\n",
       "         'mono': 4,\n",
       "         '85023': 4,\n",
       "         'within': 4,\n",
       "         '1x150pwk': 4,\n",
       "         'hello': 4,\n",
       "         'forward': 4,\n",
       "         '10am7pm': 4,\n",
       "         'polyphon': 4,\n",
       "         'pobox84': 4,\n",
       "         '36504': 4,\n",
       "         'wwwcomuknet': 4,\n",
       "         'login': 4,\n",
       "         'm8': 4,\n",
       "         'ibiza': 4,\n",
       "         'ppm': 4,\n",
       "         'vip': 4,\n",
       "         'sale': 4,\n",
       "         'money': 4,\n",
       "         'away': 4,\n",
       "         'sk38xh': 4,\n",
       "         'contract': 4,\n",
       "         '150pmin': 4,\n",
       "         'f': 4,\n",
       "         'place': 4,\n",
       "         'deliv': 4,\n",
       "         '08712405020': 4,\n",
       "         'cum': 4,\n",
       "         'xx': 4,\n",
       "         'harri': 4,\n",
       "         '08707509020': 4,\n",
       "         'linerent': 4,\n",
       "         '150pmsgrcvdhgsuite3422landsroww1j6hl': 4,\n",
       "         '2nite': 4,\n",
       "         'hope': 4,\n",
       "         '020603': 4,\n",
       "         'hotel': 4,\n",
       "         '2day': 4,\n",
       "         'brand': 4,\n",
       "         'london': 4,\n",
       "         'mobi': 4,\n",
       "         'action': 4,\n",
       "         'arcad': 4,\n",
       "         '08001950382': 4,\n",
       "         'would': 4,\n",
       "         'costa': 4,\n",
       "         'sol': 4,\n",
       "         '87239': 4,\n",
       "         'inclus': 4,\n",
       "         'saturday': 4,\n",
       "         'ntwk': 4,\n",
       "         'hit': 4,\n",
       "         'porn': 4,\n",
       "         'mth': 4,\n",
       "         'film': 4,\n",
       "         'santa': 4,\n",
       "         'cup': 3,\n",
       "         'co': 3,\n",
       "         'hl': 3,\n",
       "         'review': 3,\n",
       "         '1500': 3,\n",
       "         'trip': 3,\n",
       "         'hear': 3,\n",
       "         'k52': 3,\n",
       "         '786': 3,\n",
       "         '82277': 3,\n",
       "         'tonight': 3,\n",
       "         '89545': 3,\n",
       "         'www4tcbiz': 3,\n",
       "         '08718726270150gbpmtmsg18': 3,\n",
       "         'star': 3,\n",
       "         '25': 3,\n",
       "         'recd': 3,\n",
       "         'penc': 3,\n",
       "         'wwwldewcom1win150ppmx3age16': 3,\n",
       "         'chart': 3,\n",
       "         'tmobil': 3,\n",
       "         '0845': 3,\n",
       "         'newest': 3,\n",
       "         'm26': 3,\n",
       "         '3uz': 3,\n",
       "         '08002986906': 3,\n",
       "         'germani': 3,\n",
       "         'via': 3,\n",
       "         'valentin': 3,\n",
       "         'heart': 3,\n",
       "         '3min': 3,\n",
       "         'close': 3,\n",
       "         'wc1n3xx': 3,\n",
       "         'loan': 3,\n",
       "         'notic': 3,\n",
       "         'ibhltd': 3,\n",
       "         'ldnw15h': 3,\n",
       "         '150pmtmsgrcvd18': 3,\n",
       "         'renew': 3,\n",
       "         'box95qu': 3,\n",
       "         'unsub': 3,\n",
       "         '08715705022': 3,\n",
       "         '542': 3,\n",
       "         'ladi': 3,\n",
       "         'kick': 3,\n",
       "         'euro2004': 3,\n",
       "         'daili': 3,\n",
       "         'postcod': 3,\n",
       "         '20': 3,\n",
       "         'work': 3,\n",
       "         '89555': 3,\n",
       "         'textoper': 3,\n",
       "         'max7': 3,\n",
       "         'listen': 3,\n",
       "         '4t': 3,\n",
       "         'pari': 3,\n",
       "         'citi': 3,\n",
       "         '88039': 3,\n",
       "         'skilgm': 3,\n",
       "         'ever': 3,\n",
       "         'life': 3,\n",
       "         'w45wq': 3,\n",
       "         'norm150pton': 3,\n",
       "         '3qxj9': 3,\n",
       "         '9ae': 3,\n",
       "         'alfi': 3,\n",
       "         'moon': 3,\n",
       "         'children': 3,\n",
       "         'song': 3,\n",
       "         '08701417012': 3,\n",
       "         'profit': 3,\n",
       "         'cust': 3,\n",
       "         'five': 3,\n",
       "         '434': 3,\n",
       "         'sk3': 3,\n",
       "         '8wp': 3,\n",
       "         'address': 3,\n",
       "         'male': 3,\n",
       "         'cheap': 3,\n",
       "         '88600': 3,\n",
       "         'compani': 3,\n",
       "         '11414': 3,\n",
       "         'tcrw1': 3,\n",
       "         '3g': 3,\n",
       "         'videophon': 3,\n",
       "         'videochat': 3,\n",
       "         'wid': 3,\n",
       "         'java': 3,\n",
       "         'dload': 3,\n",
       "         'nolin': 3,\n",
       "         'rentl': 3,\n",
       "         'peopl': 3,\n",
       "         'cant': 3,\n",
       "         'sipix': 3,\n",
       "         'receipt': 3,\n",
       "         'bore': 3,\n",
       "         'yesterday': 3,\n",
       "         'mani': 3,\n",
       "         'let': 3,\n",
       "         'futur': 3,\n",
       "         'jordan': 3,\n",
       "         '3wk': 3,\n",
       "         '150ptone': 3,\n",
       "         '84128': 3,\n",
       "         'set': 3,\n",
       "         'jamster': 3,\n",
       "         'wwwringtonescouk': 3,\n",
       "         'origin': 3,\n",
       "         '3gbp': 3,\n",
       "         'photo': 3,\n",
       "         'arsen': 3,\n",
       "         'pod': 3,\n",
       "         'alon': 3,\n",
       "         '09066362231': 3,\n",
       "         '07xxxxxxxxx': 3,\n",
       "         '80488': 3,\n",
       "         'high': 3,\n",
       "         'shortli': 3,\n",
       "         '7250i': 3,\n",
       "         'roww1jhl': 3,\n",
       "         'stay': 3,\n",
       "         '82242': 3,\n",
       "         'sorri': 3,\n",
       "         '81303': 3,\n",
       "         '60pmin': 3,\n",
       "         'connect': 3,\n",
       "         'ticket': 3,\n",
       "         '18yr': 3,\n",
       "         'abta': 3,\n",
       "         'right': 3,\n",
       "         'person': 3,\n",
       "         'well': 3,\n",
       "         '09050090044': 3,\n",
       "         'toclaim': 3,\n",
       "         'pobox334': 3,\n",
       "         'stockport': 3,\n",
       "         'cost150pm': 3,\n",
       "         'max10min': 3,\n",
       "         'provid': 3,\n",
       "         'freefon': 3,\n",
       "         'box97n7qp': 3,\n",
       "         'men': 3,\n",
       "         'offici': 3,\n",
       "         'ip4': 3,\n",
       "         '5we': 3,\n",
       "         'cross': 3,\n",
       "         'also': 3,\n",
       "         '88066': 3,\n",
       "         '80082': 3,\n",
       "         'halloween': 3,\n",
       "         'sky': 3,\n",
       "         'adult': 3,\n",
       "         '09066612661': 3,\n",
       "         'sept': 3,\n",
       "         '28': 3,\n",
       "         'king': 3,\n",
       "         'super': 3,\n",
       "         'littl': 3,\n",
       "         '50p': 3,\n",
       "         'deliveredtomorrow': 3,\n",
       "         'save': 3,\n",
       "         'callback': 3,\n",
       "         '7': 3,\n",
       "         'nat': 3,\n",
       "         'goal': 3,\n",
       "         '30': 3,\n",
       "         'fa': 2,\n",
       "         'tkt': 2,\n",
       "         '2005': 2,\n",
       "         '87121': 2,\n",
       "         'darl': 2,\n",
       "         'chg': 2,\n",
       "         'rcv': 2,\n",
       "         'six': 2,\n",
       "         '87575': 2,\n",
       "         'team': 2,\n",
       "         'sptv': 2,\n",
       "         'cinema': 2,\n",
       "         '09061209465': 2,\n",
       "         'suprman': 2,\n",
       "         'matrix3': 2,\n",
       "         'starwars3': 2,\n",
       "         'bx420ip45w': 2,\n",
       "         'advis': 2,\n",
       "         'simpli': 2,\n",
       "         'password': 2,\n",
       "         'mix': 2,\n",
       "         'verifi': 2,\n",
       "         'gent': 2,\n",
       "         '09064012160': 2,\n",
       "         '45239': 2,\n",
       "         'q': 2,\n",
       "         'countri': 2,\n",
       "         'ansr': 2,\n",
       "         'tyron': 2,\n",
       "         '69888': 2,\n",
       "         '31pmsg': 2,\n",
       "         'hardcor': 2,\n",
       "         'randi': 2,\n",
       "         '08700621170150p': 2,\n",
       "         'arrang': 2,\n",
       "         'uniqu': 2,\n",
       "         'enough': 2,\n",
       "         'august': 2,\n",
       "         'dream': 2,\n",
       "         'soon': 2,\n",
       "         'career': 2,\n",
       "         'horo': 2,\n",
       "         'sign': 2,\n",
       "         'sam': 2,\n",
       "         '125gift': 2,\n",
       "         '69698': 2,\n",
       "         '150pwk': 2,\n",
       "         'qualiti': 2,\n",
       "         'pay': 2,\n",
       "         '021': 2,\n",
       "         'blind': 2,\n",
       "         '82468': 2,\n",
       "         'smart': 2,\n",
       "         'fix': 2,\n",
       "         '0844': 2,\n",
       "         '861': 2,\n",
       "         'prepay': 2,\n",
       "         'lifetim': 2,\n",
       "         'custcare08718720201': 2,\n",
       "         'shag': 2,\n",
       "         'updatenow': 2,\n",
       "         'avail': 2,\n",
       "         '4mth': 2,\n",
       "         'mobilesdirect': 2,\n",
       "         '08000938767': 2,\n",
       "         'or2stoptxt': 2,\n",
       "         'true': 2,\n",
       "         'box334sk38ch': 2,\n",
       "         'competit': 2,\n",
       "         '80086': 2,\n",
       "         'wwwtxttowincouk': 2,\n",
       "         'lover': 2,\n",
       "         'name1': 2,\n",
       "         'name2': 2,\n",
       "         'mobno': 2,\n",
       "         'adam': 2,\n",
       "         '07123456789': 2,\n",
       "         'yahoo': 2,\n",
       "         'txtno': 2,\n",
       "         'ave': 2,\n",
       "         'purpos': 2,\n",
       "         'tenant': 2,\n",
       "         'refus': 2,\n",
       "         '0207': 2,\n",
       "         '153': 2,\n",
       "         'juli': 2,\n",
       "         'dave': 2,\n",
       "         '09061743806': 2,\n",
       "         'box326': 2,\n",
       "         '123': 2,\n",
       "         '1450': 2,\n",
       "         'csstop': 2,\n",
       "         'cha': 2,\n",
       "         '020903': 2,\n",
       "         '08717898035': 2,\n",
       "         '24hr': 2,\n",
       "         '08718738001': 2,\n",
       "         'web': 2,\n",
       "         'call09050000327': 2,\n",
       "         '80878': 2,\n",
       "         '08712402050': 2,\n",
       "         '10ppm': 2,\n",
       "         'ag': 2,\n",
       "         'promo': 2,\n",
       "         '22': 2,\n",
       "         'kept': 2,\n",
       "         'result': 2,\n",
       "         '83222': 2,\n",
       "         'textbuddi': 2,\n",
       "         'search': 2,\n",
       "         'gaytextbuddycom': 2,\n",
       "         '89693': 2,\n",
       "         'wwwetlpcoukexpressoff': 2,\n",
       "         '40533': 2,\n",
       "         '311004': 2,\n",
       "         'rstm': 2,\n",
       "         'sw7': 2,\n",
       "         '3ss': 2,\n",
       "         'premium': 2,\n",
       "         'sue': 2,\n",
       "         'old': 2,\n",
       "         '1250': 2,\n",
       "         '09071512433': 2,\n",
       "         '050703': 2,\n",
       "         'csbcm4235wc1n3xx': 2,\n",
       "         'callcost': 2,\n",
       "         'mobilesvari': 2,\n",
       "         'email': 2,\n",
       "         'nokia6650': 2,\n",
       "         '81151': 2,\n",
       "         'ctxt': 2,\n",
       "         '150pmtmsg': 2,\n",
       "         'helplin': 2,\n",
       "         '08706091795': 2,\n",
       "         '40': 2,\n",
       "         'around': 2,\n",
       "         'premier': 2,\n",
       "         'tscs087147403231winawk': 2,\n",
       "         '150perwksub': 2,\n",
       "         '0578': 2,\n",
       "         'commun': 2,\n",
       "         'subpoli': 2,\n",
       "         '81618': 2,\n",
       "         '08718727870': 2,\n",
       "         'm263uz': 2,\n",
       "         'cashto': 2,\n",
       "         '08000407165': 2,\n",
       "         'getstop': 2,\n",
       "         '88222': 2,\n",
       "         'php': 2,\n",
       "         '08702840625comuk': 2,\n",
       "         '220cm2': 2,\n",
       "         '08002888812': 2,\n",
       "         'wed': 2,\n",
       "         '09066350750': 2,\n",
       "         'world': 2,\n",
       "         'discreet': 2,\n",
       "         'suppli': 2,\n",
       "         'virgin': 2,\n",
       "         'wwwsmsconet': 2,\n",
       "         '41685': 2,\n",
       "         '071104': 2,\n",
       "         'till': 2,\n",
       "         '10k': 2,\n",
       "         'liverpool': 2,\n",
       "         '09058094565': 2,\n",
       "         'remind': 2,\n",
       "         'cheaper': 2,\n",
       "         '08709222922': 2,\n",
       "         '15pmin': 2,\n",
       "         '78pmin': 2,\n",
       "         'peak': 2,\n",
       "         'lux': 2,\n",
       "         'filthi': 2,\n",
       "         'valid12hr': 2,\n",
       "         '09063458130': 2,\n",
       "         'polyph': 2,\n",
       "         'somebodi': 2,\n",
       "         'secretli': 2,\n",
       "         'datebox1282essexcm61xn': 2,\n",
       "         'ls15hb': 2,\n",
       "         'euro': 2,\n",
       "         'flower': 2,\n",
       "         '84025': 2,\n",
       "         'lot': 2,\n",
       "         '09050003091': 2,\n",
       "         'c52': 2,\n",
       "         'p': 2,\n",
       "         '09061790121': 2,\n",
       "         'speedchat': 2,\n",
       "         '08000776320': 2,\n",
       "         'wish': 2,\n",
       "         'forget': 2,\n",
       "         'request': 2,\n",
       "         '4fil': 2,\n",
       "         'ralli': 2,\n",
       "         'energi': 2,\n",
       "         'celeb': 2,\n",
       "         'pocketbabecouk': 2,\n",
       "         'voicemail': 2,\n",
       "         'choic': 2,\n",
       "         '87021': 2,\n",
       "         'txtin': 2,\n",
       "         '4info': 2,\n",
       "         'complet': 2,\n",
       "         'wwwtextcompcom': 2,\n",
       "         'hungri': 2,\n",
       "         'feel': 2,\n",
       "         'calls1minmoremobsemspobox45po139wa': 2,\n",
       "         '16onli': 2,\n",
       "         'lion': 2,\n",
       "         'lionm': 2,\n",
       "         'lionp': 2,\n",
       "         'potter': 2,\n",
       "         'phoenix': 2,\n",
       "         'among': 2,\n",
       "         'reader': 2,\n",
       "         'balanc': 2,\n",
       "         'sauci': 2,\n",
       "         'bear': 2,\n",
       "         'upload': 2,\n",
       "         '08718730666': 2,\n",
       "         'wwwldewcom': 2,\n",
       "         'textpod': 2,\n",
       "         'wwwtextpodnet': 2,\n",
       "         'clair': 2,\n",
       "         'luci': 2,\n",
       "         'hubbi': 2,\n",
       "         'fri': 2,\n",
       "         'leav': 2,\n",
       "         'calls1minmobsmorelkpobox177hp51fl': 2,\n",
       "         'jsco': 2,\n",
       "         'sing': 2,\n",
       "         '7250': 2,\n",
       "         'british': 2,\n",
       "         'sw73ss': 2,\n",
       "         'dracula': 2,\n",
       "         'ghost': 2,\n",
       "         'addamsfa': 2,\n",
       "         'munster': 2,\n",
       "         'exorcist': 2,\n",
       "         'twilight': 2,\n",
       "         'respons': 2,\n",
       "         'cam': 2,\n",
       "         'msg150p': 2,\n",
       "         '2rcv': 2,\n",
       "         'hlp': 2,\n",
       "         '08712317606': 2,\n",
       "         '80608': 2,\n",
       "         'wwwmovietriviatv': 2,\n",
       "         '08712405022': 2,\n",
       "         'wiv': 2,\n",
       "         'marri': 2,\n",
       "         'hard': 2,\n",
       "         '121': 2,\n",
       "         'biggest': 2,\n",
       "         'wow': 2,\n",
       "         'boy': 2,\n",
       "         '2007': 2,\n",
       "         'tour': 2,\n",
       "         'chosen': 2,\n",
       "         'bahama': 2,\n",
       "         '18onli': 2,\n",
       "         'buy': 2,\n",
       "         'press': 2,\n",
       "         '0': 2,\n",
       "         'purchas': 2,\n",
       "         'big': 2,\n",
       "         'excit': 2,\n",
       "         '3100': 2,\n",
       "         'straight': 2,\n",
       "         'wet': 2,\n",
       "         'g696ga': 2,\n",
       "         'pm': 2,\n",
       "         'upto': 2,\n",
       "         '12mth': 2,\n",
       "         'btooth': 2,\n",
       "         '0776xxxxxxx': 2,\n",
       "         '326': 2,\n",
       "         'total': 2,\n",
       "         '80182': 2,\n",
       "         '08452810073': 2,\n",
       "         '09066358152': 2,\n",
       "         'prompt': 2,\n",
       "         'mind': 2,\n",
       "         'done': 2,\n",
       "         '61610': 2,\n",
       "         'help08712400602450p': 2,\n",
       "         'tones2youcouk': 2,\n",
       "         'yo': 2,\n",
       "         'tsc': 2,\n",
       "         'aom': 2,\n",
       "         'gender': 2,\n",
       "         'yer': 2,\n",
       "         '84199': 2,\n",
       "         'eng': 2,\n",
       "         'box39822': 2,\n",
       "         'w111wx': 2,\n",
       "         'hol': 2,\n",
       "         'med': 2,\n",
       "         'satisfi': 2,\n",
       "         'home': 2,\n",
       "         'pix': 2,\n",
       "         'ref': 2,\n",
       "         'respond': 2,\n",
       "         '300p': 2,\n",
       "         'heard': 2,\n",
       "         'u4': 2,\n",
       "         'rude': 2,\n",
       "         '8552': 2,\n",
       "         '88877': 2,\n",
       "         'lost': 2,\n",
       "         'upd8': 2,\n",
       "         ...})"
      ]
     },
     "execution_count": 51,
     "metadata": {},
     "output_type": "execute_result"
    }
   ],
   "source": [
    "word_counts"
   ]
  },
  {
   "cell_type": "code",
   "execution_count": 52,
   "metadata": {},
   "outputs": [],
   "source": [
    "most_common_words = word_counts.most_common(10)"
   ]
  },
  {
   "cell_type": "code",
   "execution_count": 53,
   "metadata": {},
   "outputs": [
    {
     "name": "stdout",
     "output_type": "stream",
     "text": [
      "call: 321 occurrences\n",
      "free: 191 occurrences\n",
      "2: 157 occurrences\n",
      "txt: 141 occurrences\n",
      "u: 135 occurrences\n",
      "text: 122 occurrences\n",
      "ur: 119 occurrences\n",
      "mobil: 114 occurrences\n",
      "stop: 106 occurrences\n",
      "repli: 103 occurrences\n"
     ]
    }
   ],
   "source": [
    "for word, count in most_common_words:\n",
    "    print(f\"{word}: {count} occurrences\")"
   ]
  },
  {
   "cell_type": "code",
   "execution_count": 54,
   "metadata": {},
   "outputs": [],
   "source": [
    "wordcloud = WordCloud(width=800, height=400, background_color='white').generate_from_frequencies(dict(most_common_words))"
   ]
  },
  {
   "cell_type": "code",
   "execution_count": 55,
   "metadata": {},
   "outputs": [
    {
     "data": {
      "image/png": "[encoded data removed]",
      "text/plain": [
       "<Figure size 1200x600 with 2 Axes>"
      ]
     },
     "metadata": {},
     "output_type": "display_data"
    }
   ],
   "source": [
    "plt.figure(figsize=(12, 6))\n",
    "plt.subplot(1, 2, 1)\n",
    "plt.imshow(wordcloud, interpolation='bilinear')\n",
    "plt.title('Word Cloud for Most Common Words in Spam Emails')\n",
    "plt.axis('off')\n",
    "# Plot Bar Graph\n",
    "plt.subplot(1, 2, 2)\n",
    "words, counts = zip(*most_common_words)\n",
    "plt.bar(words, counts, color='orange')\n",
    "plt.title('Bar Graph for Most Common Words in Spam Emails')\n",
    "plt.xlabel('Words')\n",
    "plt.ylabel('Frequency')\n",
    "plt.xticks(rotation=45, ha='right')\n",
    "plt.tight_layout()\n",
    "plt.show()"
   ]
  },
  {
   "cell_type": "code",
   "execution_count": 56,
   "metadata": {},
   "outputs": [],
   "source": [
    "\n",
    "ham_emails = data[data['result'] == 'ham']['transform_text']\n"
   ]
  },
  {
   "cell_type": "code",
   "execution_count": 57,
   "metadata": {},
   "outputs": [],
   "source": [
    "ham_words = ' '.join(ham_emails).split()\n"
   ]
  },
  {
   "cell_type": "code",
   "execution_count": 58,
   "metadata": {},
   "outputs": [],
   "source": [
    "word_counts = Counter(ham_words)\n"
   ]
  },
  {
   "cell_type": "code",
   "execution_count": 59,
   "metadata": {},
   "outputs": [],
   "source": [
    "most_common_words = word_counts.most_common(10)\n"
   ]
  },
  {
   "cell_type": "code",
   "execution_count": 60,
   "metadata": {},
   "outputs": [
    {
     "name": "stdout",
     "output_type": "stream",
     "text": [
      "Top 10 Most Common Words in ham Emails:\n",
      "u: 904 occurrences\n",
      "go: 404 occurrences\n",
      "nt: 352 occurrences\n",
      "get: 352 occurrences\n",
      "2: 290 occurrences\n",
      "gt: 288 occurrences\n",
      "lt: 287 occurrences\n",
      "come: 275 occurrences\n",
      "ok: 251 occurrences\n",
      "got: 238 occurrences\n"
     ]
    }
   ],
   "source": [
    "print(\"Top 10 Most Common Words in ham Emails:\")\n",
    "for word, count in most_common_words:\n",
    "    print(f\"{word}: {count} occurrences\")\n"
   ]
  },
  {
   "cell_type": "code",
   "execution_count": 61,
   "metadata": {},
   "outputs": [],
   "source": [
    "wordcloud = WordCloud(width=800, height=400, background_color='white').generate_from_frequencies(dict(most_common_words))\n"
   ]
  },
  {
   "cell_type": "code",
   "execution_count": 62,
   "metadata": {},
   "outputs": [
    {
     "data": {
      "image/png": "[encoded data removed]",
      "text/plain": [
       "<Figure size 1200x600 with 2 Axes>"
      ]
     },
     "metadata": {},
     "output_type": "display_data"
    }
   ],
   "source": [
    "plt.figure(figsize=(12, 6))\n",
    "plt.subplot(1, 2, 1)\n",
    "plt.imshow(wordcloud, interpolation='bilinear')\n",
    "plt.title('Word Cloud for Most Common Words in ham Emails')\n",
    "plt.axis('off')\n",
    "# Plot Bar Graph\n",
    "plt.subplot(1, 2, 2)\n",
    "words, counts = zip(*most_common_words)\n",
    "plt.bar(words, counts, color='orange')\n",
    "plt.title('Bar Graph for Most Common Words in ham Emails')\n",
    "plt.xlabel('Words')\n",
    "plt.ylabel('Frequency')\n",
    "plt.xticks(rotation=45, ha='right')\n",
    "plt.tight_layout()\n",
    "plt.show()"
   ]
  },
  {
   "cell_type": "markdown",
   "metadata": {},
   "source": [
    "### STEP 5- Preparing Data for Machine Learning: Label Encoding and Vectorization\n",
    "\n"
   ]
  },
  {
   "cell_type": "code",
   "execution_count": 63,
   "metadata": {},
   "outputs": [],
   "source": [
    "encoder = LabelEncoder()\n",
    "data['result'] = encoder.fit_transform(data['result'])\n"
   ]
  },
  {
   "cell_type": "code",
   "execution_count": 64,
   "metadata": {},
   "outputs": [
    {
     "data": {
      "text/html": [
       "<div>\n",
       "<style scoped>\n",
       "    .dataframe tbody tr th:only-of-type {\n",
       "        vertical-align: middle;\n",
       "    }\n",
       "\n",
       "    .dataframe tbody tr th {\n",
       "        vertical-align: top;\n",
       "    }\n",
       "\n",
       "    .dataframe thead th {\n",
       "        text-align: right;\n",
       "    }\n",
       "</style>\n",
       "<table border=\"1\" class=\"dataframe\">\n",
       "  <thead>\n",
       "    <tr style=\"text-align: right;\">\n",
       "      <th></th>\n",
       "      <th>result</th>\n",
       "      <th>emails</th>\n",
       "      <th>Length</th>\n",
       "      <th>num_words</th>\n",
       "      <th>num_sentence</th>\n",
       "      <th>transform_text</th>\n",
       "    </tr>\n",
       "  </thead>\n",
       "  <tbody>\n",
       "    <tr>\n",
       "      <th>1200</th>\n",
       "      <td>0</td>\n",
       "      <td>Otherwise had part time job na-tuition..</td>\n",
       "      <td>40</td>\n",
       "      <td>7</td>\n",
       "      <td>1</td>\n",
       "      <td>otherwis part time job natuit</td>\n",
       "    </tr>\n",
       "    <tr>\n",
       "      <th>766</th>\n",
       "      <td>0</td>\n",
       "      <td>I'm nt goin, got somethin on, unless they meet...</td>\n",
       "      <td>103</td>\n",
       "      <td>26</td>\n",
       "      <td>1</td>\n",
       "      <td>nt goin got somethin unless meetin 4 dinner lo...</td>\n",
       "    </tr>\n",
       "  </tbody>\n",
       "</table>\n",
       "</div>"
      ],
      "text/plain": [
       "      result                                             emails  Length  \\\n",
       "1200       0           Otherwise had part time job na-tuition..      40   \n",
       "766        0  I'm nt goin, got somethin on, unless they meet...     103   \n",
       "\n",
       "      num_words  num_sentence  \\\n",
       "1200          7             1   \n",
       "766          26             1   \n",
       "\n",
       "                                         transform_text  \n",
       "1200                      otherwis part time job natuit  \n",
       "766   nt goin got somethin unless meetin 4 dinner lo...  "
      ]
     },
     "execution_count": 64,
     "metadata": {},
     "output_type": "execute_result"
    }
   ],
   "source": [
    "data.sample(2)"
   ]
  },
  {
   "cell_type": "code",
   "execution_count": 65,
   "metadata": {},
   "outputs": [],
   "source": [
    "tfidf = TfidfVectorizer(max_features=3000)\n"
   ]
  },
  {
   "cell_type": "code",
   "execution_count": 66,
   "metadata": {},
   "outputs": [],
   "source": [
    "X = tfidf.fit_transform(data['emails']).toarray()\n",
    "y = data['result']\n"
   ]
  },
  {
   "cell_type": "code",
   "execution_count": 67,
   "metadata": {},
   "outputs": [],
   "source": [
    "X_train, X_test, y_train, y_test = train_test_split(X, y, test_size=0.2, random_state=42)"
   ]
  },
  {
   "cell_type": "markdown",
   "metadata": {},
   "source": [
    "### STEP 6- Model Building"
   ]
  },
  {
   "cell_type": "markdown",
   "metadata": {},
   "source": [
    "**Model 1- SVC**"
   ]
  },
  {
   "cell_type": "code",
   "execution_count": 68,
   "metadata": {},
   "outputs": [
    {
     "name": "stdout",
     "output_type": "stream",
     "text": [
      "SVM Accuracy: 0.99\n",
      "confusion Matrix : [[889   0]\n",
      " [ 14 131]]\n",
      "Precision Score:  1.0\n"
     ]
    }
   ],
   "source": [
    "svc_classifier = SVC()\n",
    "svc_classifier.fit(X_train, y_train)\n",
    "y_pred_svc = svc_classifier.predict(X_test)\n",
    "accuracy_svc = accuracy_score(y_test, y_pred_svc)\n",
    "print(f\"SVM Accuracy: {accuracy_svc:.2f}\")\n",
    "print(\"confusion Matrix :\",confusion_matrix(y_test,y_pred_svc))\n",
    "print(\"Precision Score: \",precision_score(y_test,y_pred_svc))"
   ]
  },
  {
   "cell_type": "markdown",
   "metadata": {},
   "source": [
    "**Model 2- Random Forest classifier**"
   ]
  },
  {
   "cell_type": "code",
   "execution_count": 69,
   "metadata": {},
   "outputs": [
    {
     "name": "stdout",
     "output_type": "stream",
     "text": [
      "Random Forest Accuracy: 0.98\n",
      "confusion Matrix : [[888   1]\n",
      " [ 21 124]]\n",
      "Precision Score:  0.992\n"
     ]
    }
   ],
   "source": [
    "rf_classifier = RandomForestClassifier()\n",
    "rf_classifier.fit(X_train, y_train)\n",
    "y_pred_rf = rf_classifier.predict(X_test)\n",
    "accuracy_rf = accuracy_score(y_test, y_pred_rf)\n",
    "print(f\"Random Forest Accuracy: {accuracy_rf:.2f}\")\n",
    "print(\"confusion Matrix :\",confusion_matrix(y_test,y_pred_rf))\n",
    "print(\"Precision Score: \",precision_score(y_test,y_pred_rf))"
   ]
  },
  {
   "cell_type": "markdown",
   "metadata": {},
   "source": [
    "**Model 3- Naive Bayes classifier**"
   ]
  },
  {
   "cell_type": "code",
   "execution_count": 70,
   "metadata": {},
   "outputs": [
    {
     "name": "stdout",
     "output_type": "stream",
     "text": [
      "Naive Bayes Accuracy: 0.98\n",
      "confusion Matrix : [[889   0]\n",
      " [ 24 121]]\n",
      "Precision Score:  1.0\n"
     ]
    }
   ],
   "source": [
    "nb_classifier = MultinomialNB()\n",
    "nb_classifier.fit(X_train, y_train)\n",
    "y_pred_nb = nb_classifier.predict(X_test)\n",
    "accuracy_nb = accuracy_score(y_test, y_pred_nb)\n",
    "print(f\"Naive Bayes Accuracy: {accuracy_nb:.2f}\")\n",
    "print(\"confusion Matrix :\",confusion_matrix(y_test,y_pred_nb))\n",
    "print(\"Precision Score: \",precision_score(y_test,y_pred_nb))"
   ]
  },
  {
   "cell_type": "markdown",
   "metadata": {},
   "source": [
    "**Choosing the Best Classifier for Email Spam Detection**"
   ]
  },
  {
   "cell_type": "code",
   "execution_count": 71,
   "metadata": {},
   "outputs": [
    {
     "data": {
      "image/png": "[encoded data removed]",
      "text/plain": [
       "<Figure size 1500x500 with 2 Axes>"
      ]
     },
     "metadata": {},
     "output_type": "display_data"
    }
   ],
   "source": [
    "# Calculate precision scores for each classifier\n",
    "precision_svc = precision_score(y_test, y_pred_svc)\n",
    "precision_rf = precision_score(y_test, y_pred_rf)\n",
    "precision_nb = precision_score(y_test, y_pred_nb)\n",
    "\n",
    "# Create lists to store accuracies and precision scores\n",
    "classifiers = ['SVC', 'Random Forest', 'Naive Bayes']\n",
    "accuracies = [accuracy_svc, accuracy_rf, accuracy_nb]\n",
    "precision_scores = [precision_svc, precision_rf, precision_nb]\n",
    "\n",
    "# Plot bar graph for accuracies and precision scores side by side\n",
    "fig, axes = plt.subplots(1, 2, figsize=(15, 5))\n",
    "\n",
    "# Plot bar graph for accuracies\n",
    "axes[0].bar(classifiers, accuracies, color='skyblue')\n",
    "axes[0].set_xlabel('Classifier')\n",
    "axes[0].set_ylabel('Accuracy')\n",
    "axes[0].set_title('Accuracy Comparison of Different Classifiers')\n",
    "axes[0].set_ylim(0, 1)\n",
    "\n",
    "# Plot bar graph for precision scores\n",
    "axes[1].bar(classifiers, precision_scores, color='lightgreen')\n",
    "axes[1].set_xlabel('Classifier')\n",
    "axes[1].set_ylabel('Precision Score')\n",
    "axes[1].set_title('Precision Score Comparison of Different Classifiers')\n",
    "axes[1].set_ylim(0, 1)\n",
    "plt.tight_layout()\n",
    "plt.show()"
   ]
  },
  {
   "cell_type": "markdown",
   "metadata": {},
   "source": [
    "**STEP 6- Model Prediction**"
   ]
  },
  {
   "cell_type": "markdown",
   "metadata": {},
   "source": [
    "- Type 1- Predict with new data"
   ]
  },
  {
   "cell_type": "code",
   "execution_count": 72,
   "metadata": {},
   "outputs": [
    {
     "name": "stdout",
     "output_type": "stream",
     "text": [
      "'Get a free iPhone now!' is predicted as spam.\n",
      "'Hey, how's it going?' is predicted as ham.\n",
      "'Congratulations! You've won a prize!' is predicted as spam.\n",
      "'Reminder: Meeting at 2 PM tomorrow.' is predicted as ham.\n"
     ]
    }
   ],
   "source": [
    "new_emails = [\n",
    "    \"Get a free iPhone now!\",\n",
    "    \"Hey, how's it going?\",\n",
    "    \"Congratulations! You've won a prize!\",\n",
    "    \"Reminder: Meeting at 2 PM tomorrow.\"\n",
    "]\n",
    "\n",
    "# Convert new data into numerical vectors using the trained tfidf_vectorizer\n",
    "new_X = tfidf.transform(new_emails)\n",
    "new_X_dense = new_X.toarray()\n",
    "\n",
    "# Use the trained SVM model to make predictions\n",
    "svm_predictions = svc_classifier.predict(new_X_dense)\n",
    "\n",
    "# Print the predictions\n",
    "for email, prediction in zip(new_emails, svm_predictions):\n",
    "    if prediction == 1:\n",
    "        print(f\"'{email}' is predicted as spam.\")\n",
    "    else:\n",
    "        print(f\"'{email}' is predicted as ham.\")"
   ]
  },
  {
   "cell_type": "markdown",
   "metadata": {},
   "source": [
    "- Type 2- User Input Data Prediction"
   ]
  },
  {
   "cell_type": "code",
   "execution_count": 73,
   "metadata": {},
   "outputs": [
    {
     "name": "stdout",
     "output_type": "stream",
     "text": [
      "Wanna win a free iphone?\n",
      "The email is predicted as spam.\n"
     ]
    }
   ],
   "source": [
    "def predict_email(email):\n",
    "    # Convert email into numerical vector using the trained TF-IDF vectorizer\n",
    "    email_vector = tfidf.transform([email])\n",
    "    \n",
    "    # Convert sparse matrix to dense array\n",
    "    email_vector_dense = email_vector.toarray()\n",
    "    \n",
    "    # Use the trained SVM model to make predictions\n",
    "    prediction = svc_classifier.predict(email_vector_dense)\n",
    "    \n",
    "    # Print the prediction\n",
    "    if prediction[0] == 1:\n",
    "        print(\"The email is predicted as spam.\")\n",
    "    else:\n",
    "        print(\"The email is predicted as ham.\")\n",
    "\n",
    "# Get user input for email\n",
    "user_email = input(\"Enter the email text: \")\n",
    "\n",
    "# Predict whether the input email is spam or ham\n",
    "print(user_email)\n",
    "predict_email(user_email)"
   ]
  }
 ],
 "metadata": {
  "kernelspec": {
   "display_name": "env",
   "language": "python",
   "name": "python3"
  },
  "language_info": {
   "codemirror_mode": {
    "name": "ipython",
    "version": 3
   },
   "file_extension": ".py",
   "mimetype": "text/x-python",
   "name": "python",
   "nbconvert_exporter": "python",
   "pygments_lexer": "ipython3",
   "version": "3.11.8"
  }
 },
 "nbformat": 4,
 "nbformat_minor": 2
}
